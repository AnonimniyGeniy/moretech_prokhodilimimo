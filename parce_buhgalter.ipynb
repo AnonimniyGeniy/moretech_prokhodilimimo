{
 "cells": [
  {
   "cell_type": "code",
   "execution_count": 54,
   "metadata": {
    "collapsed": true,
    "pycharm": {
     "name": "#%%\n"
    }
   },
   "outputs": [],
   "source": [
    "import time\n",
    "import requests\n",
    "import json\n",
    "import pandas as pd\n",
    "from bs4 import BeautifulSoup"
   ]
  },
  {
   "cell_type": "code",
   "execution_count": 55,
   "outputs": [],
   "source": [
    "def get_soup(url:str, params:dict=dict()):\n",
    "    r = requests.get(url, params)\n",
    "    r.encoding = r.apparent_encoding\n",
    "    if r.status_code != 200:\n",
    "        raise Exception()\n",
    "    return BeautifulSoup(r.text, \"lxml\")\n",
    "\n",
    "def get_page_links(rubric_url):\n",
    "    soup = get_soup(rubric_url)\n",
    "    return [{\"rubric\": rubric_url.split(\"/\")[-2], \"href\": j[\"href\"], \"title\": j.text}\n",
    "            for j in [i.find(\"a\") for i in soup.find_all(\"h3\")]\n",
    "            if \"article\" in j[\"href\"]]\n",
    "\n",
    "def get_all_article_links():\n",
    "    main_page_url = \"https://www.buhgalteria.ru/\"\n",
    "    soup = get_soup(main_page_url)\n",
    "    categories = [i[\"href\"] for i in soup.find(\"ul\", {\"class\": \"dropnav-menu\"}).find_all(\"a\")]\n",
    "    categories = [href for href in categories if \"rubric\" in href]\n",
    "\n",
    "    all_page_links = list()\n",
    "    all_page_hrefs = set()\n",
    "    for rubric in categories:\n",
    "        page_links = get_page_links(rubric_url=rubric)\n",
    "        for link in page_links:\n",
    "            link[\"href\"] = link[\"href\"].split(\"?\")[0]\n",
    "            if \"https://www.buhgalteria.ru\" not in link[\"href\"]:\n",
    "                link[\"href\"] = \"https://www.buhgalteria.ru\" + link[\"href\"]\n",
    "            if link[\"href\"] not in all_page_hrefs:\n",
    "                all_page_hrefs.add(link[\"href\"])\n",
    "                all_page_links.append(link)\n",
    "    return all_page_links\n",
    "\n",
    "\n",
    "def main():\n",
    "    URL = 'https://www.buhgalteria.ru'\n",
    "    all_pages = get_all_article_links()\n",
    "    news_data = {}\n",
    "\n",
    "    soup = get_soup(URL)\n",
    "\n",
    "    # Для каждой ссылки получаем информацию и записываем в news_data\n",
    "    for page in all_pages:\n",
    "\n",
    "        #link = news_links[i].get('href').split('?')[0]\n",
    "        link = page[\"href\"]\n",
    "        name = link\n",
    "        news_data[name] = {\"title\": page[\"title\"], \"category\": page[\"rubric\"]}\n",
    "        soup = get_soup(link)\n",
    "\n",
    "        # Переходим на страницу для дальнейшенго парсинга\n",
    "        article = soup.find('div', class_='article')\n",
    "\n",
    "        image = article.find('div', class_='article__main-image')\n",
    "\n",
    "        article_text = \" \".join(art.text for art in article.find_all('p'))\n",
    "\n",
    "        # Заполняем полученными данными news_data\n",
    "        news_data[name]['link'] = link\n",
    "        #news_data[name]['date'] = date\n",
    "        news_data[name]['text'] = \" \".join(article_text.split())\n",
    "\n",
    "    pd.DataFrame(news_data).transpose().reset_index(drop=True).to_csv(\"parced_data/buh_data.csv\")\n",
    "\n",
    "\n",
    "\n",
    "if __name__ == \"__main__\":\n",
    "    main()"
   ],
   "metadata": {
    "collapsed": false
   }
  },
  {
   "cell_type": "code",
   "execution_count": 53,
   "outputs": [
    {
     "data": {
      "text/plain": "                                                title               category  \\\n0   Как определять базу по НДС при аренде госимуще...      uchetiottchetnost   \n1                  Коэффициенты дефляторы на 2023 год      uchetiottchetnost   \n2   Как ограничить доступ к своим отчетам в ГИРБО ...      uchetiottchetnost   \n3   Минфин напомнил, как подтвердить расходы перви...      uchetiottchetnost   \n4   Как определять остаточную стоимость ОС при аренде      uchetiottchetnost   \n..                                                ...                    ...   \n65   Реквизиты в чеках. Обязательные и дополнительные          sudebny_spory   \n66  Компенсация за плохой ремонт автомобиля ИП: мн...          sudebny_spory   \n67              Признают ли мобилизацию форс-мажором?  organizatsiya_biznesa   \n68          Новые ГОСТы для СИЗ с 1 октября 2022 года  organizatsiya_biznesa   \n69  Порядок эвакуации работников при чрезвычайных ...  organizatsiya_biznesa   \n\n                                                 link  \\\n0   https://www.buhgalteria.ru/article/kak-opredel...   \n1   https://www.buhgalteria.ru/article/koeffitsien...   \n2   https://www.buhgalteria.ru/article/kak-ogranic...   \n3   https://www.buhgalteria.ru/article/minfin-napo...   \n4   https://www.buhgalteria.ru/article/kak-opredel...   \n..                                                ...   \n65  https://www.buhgalteria.ru/article/rekvizity-v...   \n66  https://www.buhgalteria.ru/article/kompensatsi...   \n67  https://www.buhgalteria.ru/article/priznayut-l...   \n68  https://www.buhgalteria.ru/article/novye-gosty...   \n69  https://www.buhgalteria.ru/article/poryadok-ev...   \n\n                                                 text  \n0   Если вы арендуете государственное или муниципа...  \n1   Минэкономразвития обнародовало коэффициенты-де...  \n2   Доступ к финансовой и учредительной информации...  \n3   Все расходы, принимаемые в уменьшение налогооб...  \n4   С 2022 года обязателен к применению ФСБУ 25/20...  \n..                                                ...  \n65  В одном из обзоров судебной практики ФНС включ...  \n66  Когда в автосервисе машину отремонтировали нек...  \n67  Министерство финансов подготовило проект прави...  \n68  С 1 октября 2022 года введены в действие 16 ст...  \n69  19 сентября 2022 года было подписано постановл...  \n\n[70 rows x 4 columns]",
      "text/html": "<div>\n<style scoped>\n    .dataframe tbody tr th:only-of-type {\n        vertical-align: middle;\n    }\n\n    .dataframe tbody tr th {\n        vertical-align: top;\n    }\n\n    .dataframe thead th {\n        text-align: right;\n    }\n</style>\n<table border=\"1\" class=\"dataframe\">\n  <thead>\n    <tr style=\"text-align: right;\">\n      <th></th>\n      <th>title</th>\n      <th>category</th>\n      <th>link</th>\n      <th>text</th>\n    </tr>\n  </thead>\n  <tbody>\n    <tr>\n      <th>0</th>\n      <td>Как определять базу по НДС при аренде госимуще...</td>\n      <td>uchetiottchetnost</td>\n      <td>https://www.buhgalteria.ru/article/kak-opredel...</td>\n      <td>Если вы арендуете государственное или муниципа...</td>\n    </tr>\n    <tr>\n      <th>1</th>\n      <td>Коэффициенты дефляторы на 2023 год</td>\n      <td>uchetiottchetnost</td>\n      <td>https://www.buhgalteria.ru/article/koeffitsien...</td>\n      <td>Минэкономразвития обнародовало коэффициенты-де...</td>\n    </tr>\n    <tr>\n      <th>2</th>\n      <td>Как ограничить доступ к своим отчетам в ГИРБО ...</td>\n      <td>uchetiottchetnost</td>\n      <td>https://www.buhgalteria.ru/article/kak-ogranic...</td>\n      <td>Доступ к финансовой и учредительной информации...</td>\n    </tr>\n    <tr>\n      <th>3</th>\n      <td>Минфин напомнил, как подтвердить расходы перви...</td>\n      <td>uchetiottchetnost</td>\n      <td>https://www.buhgalteria.ru/article/minfin-napo...</td>\n      <td>Все расходы, принимаемые в уменьшение налогооб...</td>\n    </tr>\n    <tr>\n      <th>4</th>\n      <td>Как определять остаточную стоимость ОС при аренде</td>\n      <td>uchetiottchetnost</td>\n      <td>https://www.buhgalteria.ru/article/kak-opredel...</td>\n      <td>С 2022 года обязателен к применению ФСБУ 25/20...</td>\n    </tr>\n    <tr>\n      <th>...</th>\n      <td>...</td>\n      <td>...</td>\n      <td>...</td>\n      <td>...</td>\n    </tr>\n    <tr>\n      <th>65</th>\n      <td>Реквизиты в чеках. Обязательные и дополнительные</td>\n      <td>sudebny_spory</td>\n      <td>https://www.buhgalteria.ru/article/rekvizity-v...</td>\n      <td>В одном из обзоров судебной практики ФНС включ...</td>\n    </tr>\n    <tr>\n      <th>66</th>\n      <td>Компенсация за плохой ремонт автомобиля ИП: мн...</td>\n      <td>sudebny_spory</td>\n      <td>https://www.buhgalteria.ru/article/kompensatsi...</td>\n      <td>Когда в автосервисе машину отремонтировали нек...</td>\n    </tr>\n    <tr>\n      <th>67</th>\n      <td>Признают ли мобилизацию форс-мажором?</td>\n      <td>organizatsiya_biznesa</td>\n      <td>https://www.buhgalteria.ru/article/priznayut-l...</td>\n      <td>Министерство финансов подготовило проект прави...</td>\n    </tr>\n    <tr>\n      <th>68</th>\n      <td>Новые ГОСТы для СИЗ с 1 октября 2022 года</td>\n      <td>organizatsiya_biznesa</td>\n      <td>https://www.buhgalteria.ru/article/novye-gosty...</td>\n      <td>С 1 октября 2022 года введены в действие 16 ст...</td>\n    </tr>\n    <tr>\n      <th>69</th>\n      <td>Порядок эвакуации работников при чрезвычайных ...</td>\n      <td>organizatsiya_biznesa</td>\n      <td>https://www.buhgalteria.ru/article/poryadok-ev...</td>\n      <td>19 сентября 2022 года было подписано постановл...</td>\n    </tr>\n  </tbody>\n</table>\n<p>70 rows × 4 columns</p>\n</div>"
     },
     "execution_count": 50,
     "metadata": {},
     "output_type": "execute_result"
    },
    {
     "data": {
      "text/plain": "                                                title               category  \\\n0   Как определять базу по НДС при аренде госимуще...      uchetiottchetnost   \n1                  Коэффициенты дефляторы на 2023 год      uchetiottchetnost   \n2   Как ограничить доступ к своим отчетам в ГИРБО ...      uchetiottchetnost   \n3   Минфин напомнил, как подтвердить расходы перви...      uchetiottchetnost   \n4   Как определять остаточную стоимость ОС при аренде      uchetiottchetnost   \n..                                                ...                    ...   \n65   Реквизиты в чеках. Обязательные и дополнительные          sudebny_spory   \n66  Компенсация за плохой ремонт автомобиля ИП: мн...          sudebny_spory   \n67              Признают ли мобилизацию форс-мажором?  organizatsiya_biznesa   \n68          Новые ГОСТы для СИЗ с 1 октября 2022 года  organizatsiya_biznesa   \n69  Порядок эвакуации работников при чрезвычайных ...  organizatsiya_biznesa   \n\n                                                 link  \\\n0   https://www.buhgalteria.ru/article/kak-opredel...   \n1   https://www.buhgalteria.ru/article/koeffitsien...   \n2   https://www.buhgalteria.ru/article/kak-ogranic...   \n3   https://www.buhgalteria.ru/article/minfin-napo...   \n4   https://www.buhgalteria.ru/article/kak-opredel...   \n..                                                ...   \n65  https://www.buhgalteria.ru/article/rekvizity-v...   \n66  https://www.buhgalteria.ru/article/kompensatsi...   \n67  https://www.buhgalteria.ru/article/priznayut-l...   \n68  https://www.buhgalteria.ru/article/novye-gosty...   \n69  https://www.buhgalteria.ru/article/poryadok-ev...   \n\n                                                 text  \n0   Если вы арендуете государственное или муниципа...  \n1   Минэкономразвития обнародовало коэффициенты-де...  \n2   Доступ к финансовой и учредительной информации...  \n3   Все расходы, принимаемые в уменьшение налогооб...  \n4   С 2022 года обязателен к применению ФСБУ 25/20...  \n..                                                ...  \n65  В одном из обзоров судебной практики ФНС включ...  \n66  Когда в автосервисе машину отремонтировали нек...  \n67  Министерство финансов подготовило проект прави...  \n68  С 1 октября 2022 года введены в действие 16 ст...  \n69  19 сентября 2022 года было подписано постановл...  \n\n[70 rows x 4 columns]",
      "text/html": "<div>\n<style scoped>\n    .dataframe tbody tr th:only-of-type {\n        vertical-align: middle;\n    }\n\n    .dataframe tbody tr th {\n        vertical-align: top;\n    }\n\n    .dataframe thead th {\n        text-align: right;\n    }\n</style>\n<table border=\"1\" class=\"dataframe\">\n  <thead>\n    <tr style=\"text-align: right;\">\n      <th></th>\n      <th>title</th>\n      <th>category</th>\n      <th>link</th>\n      <th>text</th>\n    </tr>\n  </thead>\n  <tbody>\n    <tr>\n      <th>0</th>\n      <td>Как определять базу по НДС при аренде госимуще...</td>\n      <td>uchetiottchetnost</td>\n      <td>https://www.buhgalteria.ru/article/kak-opredel...</td>\n      <td>Если вы арендуете государственное или муниципа...</td>\n    </tr>\n    <tr>\n      <th>1</th>\n      <td>Коэффициенты дефляторы на 2023 год</td>\n      <td>uchetiottchetnost</td>\n      <td>https://www.buhgalteria.ru/article/koeffitsien...</td>\n      <td>Минэкономразвития обнародовало коэффициенты-де...</td>\n    </tr>\n    <tr>\n      <th>2</th>\n      <td>Как ограничить доступ к своим отчетам в ГИРБО ...</td>\n      <td>uchetiottchetnost</td>\n      <td>https://www.buhgalteria.ru/article/kak-ogranic...</td>\n      <td>Доступ к финансовой и учредительной информации...</td>\n    </tr>\n    <tr>\n      <th>3</th>\n      <td>Минфин напомнил, как подтвердить расходы перви...</td>\n      <td>uchetiottchetnost</td>\n      <td>https://www.buhgalteria.ru/article/minfin-napo...</td>\n      <td>Все расходы, принимаемые в уменьшение налогооб...</td>\n    </tr>\n    <tr>\n      <th>4</th>\n      <td>Как определять остаточную стоимость ОС при аренде</td>\n      <td>uchetiottchetnost</td>\n      <td>https://www.buhgalteria.ru/article/kak-opredel...</td>\n      <td>С 2022 года обязателен к применению ФСБУ 25/20...</td>\n    </tr>\n    <tr>\n      <th>...</th>\n      <td>...</td>\n      <td>...</td>\n      <td>...</td>\n      <td>...</td>\n    </tr>\n    <tr>\n      <th>65</th>\n      <td>Реквизиты в чеках. Обязательные и дополнительные</td>\n      <td>sudebny_spory</td>\n      <td>https://www.buhgalteria.ru/article/rekvizity-v...</td>\n      <td>В одном из обзоров судебной практики ФНС включ...</td>\n    </tr>\n    <tr>\n      <th>66</th>\n      <td>Компенсация за плохой ремонт автомобиля ИП: мн...</td>\n      <td>sudebny_spory</td>\n      <td>https://www.buhgalteria.ru/article/kompensatsi...</td>\n      <td>Когда в автосервисе машину отремонтировали нек...</td>\n    </tr>\n    <tr>\n      <th>67</th>\n      <td>Признают ли мобилизацию форс-мажором?</td>\n      <td>organizatsiya_biznesa</td>\n      <td>https://www.buhgalteria.ru/article/priznayut-l...</td>\n      <td>Министерство финансов подготовило проект прави...</td>\n    </tr>\n    <tr>\n      <th>68</th>\n      <td>Новые ГОСТы для СИЗ с 1 октября 2022 года</td>\n      <td>organizatsiya_biznesa</td>\n      <td>https://www.buhgalteria.ru/article/novye-gosty...</td>\n      <td>С 1 октября 2022 года введены в действие 16 ст...</td>\n    </tr>\n    <tr>\n      <th>69</th>\n      <td>Порядок эвакуации работников при чрезвычайных ...</td>\n      <td>organizatsiya_biznesa</td>\n      <td>https://www.buhgalteria.ru/article/poryadok-ev...</td>\n      <td>19 сентября 2022 года было подписано постановл...</td>\n    </tr>\n  </tbody>\n</table>\n<p>70 rows × 4 columns</p>\n</div>"
     },
     "execution_count": 53,
     "metadata": {},
     "output_type": "execute_result"
    }
   ],
   "source": [
    "pd.read_csv(\"buh_data.csv\", index_col=0)"
   ],
   "metadata": {
    "collapsed": false
   }
  }
 ],
 "metadata": {
  "kernelspec": {
   "display_name": "Python 3",
   "language": "python",
   "name": "python3"
  },
  "language_info": {
   "codemirror_mode": {
    "name": "ipython",
    "version": 2
   },
   "file_extension": ".py",
   "mimetype": "text/x-python",
   "name": "python",
   "nbconvert_exporter": "python",
   "pygments_lexer": "ipython2",
   "version": "2.7.6"
  }
 },
 "nbformat": 4,
 "nbformat_minor": 0
}
