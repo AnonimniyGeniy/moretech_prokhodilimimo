{
 "cells": [
  {
   "cell_type": "code",
   "execution_count": 80,
   "metadata": {
    "collapsed": true,
    "pycharm": {
     "name": "#%%\n"
    }
   },
   "outputs": [],
   "source": [
    "from selenium import webdriver\n",
    "import time\n",
    "from selenium.webdriver.common.keys import Keys\n",
    "from selenium.webdriver.common.by import By\n",
    "import requests\n",
    "from bs4 import BeautifulSoup\n",
    "import json\n",
    "import pandas as pd\n",
    "from selenium.webdriver.chrome.service import Service\n",
    "from webdriver_manager.chrome import ChromeDriverManager"
   ]
  },
  {
   "cell_type": "code",
   "execution_count": 81,
   "outputs": [
    {
     "name": "stderr",
     "output_type": "stream",
     "text": [
      "C:\\Users\\дом.DESKTOP-A3U9TO1\\AppData\\Local\\Temp\\ipykernel_36396\\2254764488.py:3: DeprecationWarning: executable_path has been deprecated, please pass in a Service object\n",
      "  driver = webdriver.Chrome(executable_path=\"C:\\\\Users\\\\дом.DESKTOP-A3U9TO1\\\\DataspellProjects\\\\moretech_prokhodilimimo\\\\chromedriver\\\\chromedriver.exe\")\n"
     ]
    },
    {
     "name": "stdout",
     "output_type": "stream",
     "text": [
      "1\n",
      "<selenium.webdriver.remote.webelement.WebElement (session=\"80ff0a01ff630e7591db2b101257f24f\", element=\"bf24818b-1821-449c-a85e-27e261a7a28c\")>\n"
     ]
    }
   ],
   "source": [
    "url = 'https://www.forbes.ru/biznes'\n",
    "links = []\n",
    "driver = webdriver.Chrome(executable_path=\"\\\\chromedriver\\\\chromedriver.exe\")\n",
    "\n",
    "try:\n",
    "    driver.get(url=url)\n",
    "    time.sleep(1)\n",
    "    elem = driver.find_element(By.TAG_NAME, \"body\")\n",
    "    print(elem)\n",
    "    no_of_pagedowns = 50\n",
    "    while no_of_pagedowns:\n",
    "        elem.send_keys(Keys.PAGE_UP)\n",
    "        time.sleep(0.1)\n",
    "        elem.send_keys(Keys.END)\n",
    "        time.sleep(0.2)\n",
    "        no_of_pagedowns-=1\n",
    "    html = driver.page_source\n",
    "\n",
    "    soup = BeautifulSoup(html, 'lxml')\n",
    "\n",
    "except Exception as e:\n",
    "    print(e)\n",
    "finally:\n",
    "    driver.close()\n",
    "    driver.quit()\n"
   ],
   "metadata": {
    "collapsed": false,
    "pycharm": {
     "name": "#%%\n"
    }
   }
  },
  {
   "cell_type": "code",
   "execution_count": 82,
   "outputs": [],
   "source": [
    "#print(soup.text)\n",
    "    news_links = soup.find_all('a')\n",
    "    links_array = []\n",
    "    for i in range(len(news_links)):\n",
    "        link = news_links[i].get('href').split('?')[0]\n",
    "        if link[0] != 'h' and len(link) >= 18 and '@' not in link:\n",
    "            links_array.append('https://www.forbes.ru' + link)\n",
    "#print(links_array)\n",
    "#print(news_links)"
   ],
   "metadata": {
    "collapsed": false,
    "pycharm": {
     "name": "#%%\n"
    }
   }
  },
  {
   "cell_type": "code",
   "execution_count": 84,
   "outputs": [
    {
     "name": "stdout",
     "output_type": "stream",
     "text": [
      "finished\n"
     ]
    }
   ],
   "source": [
    "#print(soup)\n",
    "def get_soup(url):\n",
    "    r = requests.get(url).text\n",
    "    return BeautifulSoup(r, 'lxml')\n",
    "\n",
    "\n",
    "def main():\n",
    "    news_data = {}\n",
    "\n",
    "    for link in links_array:\n",
    "        name = link\n",
    "        news_data[name] = {}\n",
    "        soup = get_soup(link)\n",
    "        #print(soup.text)\n",
    "\n",
    "        # Переходим на страницу для дальнейшенго парсинга\n",
    "        article = soup.find_all(attrs={'itemprop': 'articleBody'})\n",
    "\n",
    "        title = soup.title\n",
    "        article_text = ''\n",
    "        try:\n",
    "            article_text = \" \".join(paragraph.get_text() for paragraph in article)\n",
    "\n",
    "        except AttributeError:\n",
    "            continue\n",
    "\n",
    "        #print(article_text)\n",
    "\n",
    "        \"\"\"for paragraph in article_paragraphs:\n",
    "            #article_text += paragraph.text\n",
    "            article_text += paragraph\n",
    "            print(paragraph)\n",
    "        print(article_text)\"\"\"\n",
    "\n",
    "        # Заполняем полученными данными news_data\n",
    "        news_data[name]['link'] = link\n",
    "        #news_data[name]['date'] = date\n",
    "        news_data[name]['text'] = article_text.replace('\\xa0', '').replace('\\n', ' ').replace('\\r', ' ')\n",
    "\n",
    "        try:\n",
    "            news_data[name]['title'] = title.text\n",
    "        except AttributeError:\n",
    "            news_data[name]['title'] = 'Без заголовка'\n",
    "\n",
    "    pd.DataFrame(news_data).transpose().reset_index(drop=True).to_csv(\"parced_data/forbes_data.csv\")\n",
    "    print(\"finished\")\n",
    "\n",
    "\n",
    "\n",
    "\n",
    "if __name__ == \"__main__\":\n",
    "    main()"
   ],
   "metadata": {
    "collapsed": false,
    "pycharm": {
     "name": "#%%\n"
    }
   }
  },
  {
   "cell_type": "code",
   "execution_count": 2,
   "outputs": [
    {
     "data": {
      "text/plain": "environ{'ALLUSERSPROFILE': 'C:\\\\ProgramData',\n        'APPDATA': 'C:\\\\Users\\\\kil4g\\\\AppData\\\\Roaming',\n        'CLION': 'D:\\\\CLion 2021.3.1\\\\bin;',\n        'COMMONPROGRAMFILES': 'C:\\\\Program Files\\\\Common Files',\n        'COMMONPROGRAMFILES(X86)': 'C:\\\\Program Files (x86)\\\\Common Files',\n        'COMMONPROGRAMW6432': 'C:\\\\Program Files\\\\Common Files',\n        'COMPUTERNAME': 'LAPTOP-TRT2TLVA',\n        'COMSPEC': 'C:\\\\WINDOWS\\\\system32\\\\cmd.exe',\n        'CONDA_DEFAULT_ENV': 'PyCharnEnv',\n        'CONDA_PREFIX': 'D:\\\\Anaconda\\\\envs\\\\PyCharnEnv',\n        'CONDA_PROMPT_MODIFIER': '(PyCharnEnv) ',\n        'CONDA_SHLVL': '1',\n        'DATASPELL': 'D:\\\\DataSpell 2022.1.4\\\\bin;',\n        'DRIVERDATA': 'C:\\\\Windows\\\\System32\\\\Drivers\\\\DriverData',\n        'FPS_BROWSER_APP_PROFILE_STRING': 'Internet Explorer',\n        'FPS_BROWSER_USER_PROFILE_STRING': 'Default',\n        'HOMEDRIVE': 'C:',\n        'HOMEPATH': '\\\\Users\\\\kil4g',\n        'IDEA_INITIAL_DIRECTORY': 'C:\\\\Users\\\\kil4g\\\\Desktop',\n        'INTELLIJ IDEA': 'D:\\\\IntelliJ IDEA 2021.2.1\\\\bin;',\n        'JAVA_HOME': 'C:\\\\Program Files\\\\Java\\\\jre1.8.0_341',\n        'LANG': 'en_US.UTF-8',\n        'LANGUAGE': '',\n        'LC_ALL': 'en_US.UTF-8',\n        'LOCALAPPDATA': 'C:\\\\Users\\\\kil4g\\\\AppData\\\\Local',\n        'LOGONSERVER': '\\\\\\\\LAPTOP-TRT2TLVA',\n        'NUMBER_OF_PROCESSORS': '8',\n        'ONEDRIVE': 'C:\\\\Users\\\\kil4g\\\\OneDrive',\n        'ONEDRIVECONSUMER': 'C:\\\\Users\\\\kil4g\\\\OneDrive',\n        'OS': 'Windows_NT',\n        'PATH': 'D:\\\\Anaconda\\\\envs\\\\PyCharnEnv;D:\\\\Anaconda\\\\envs\\\\PyCharnEnv\\\\Library\\\\mingw-w64\\\\bin;D:\\\\Anaconda\\\\envs\\\\PyCharnEnv\\\\Library\\\\usr\\\\bin;D:\\\\Anaconda\\\\envs\\\\PyCharnEnv\\\\Library\\\\bin;D:\\\\Anaconda\\\\envs\\\\PyCharnEnv\\\\Scripts;D:\\\\Anaconda\\\\envs\\\\PyCharnEnv\\\\bin;D:\\\\Anaconda\\\\condabin;C:\\\\Program Files (x86)\\\\Common Files\\\\Oracle\\\\Java\\\\javapath;C:\\\\ProgramData\\\\Oracle\\\\Java\\\\javapath;C:\\\\WINDOWS\\\\system32;C:\\\\WINDOWS;C:\\\\WINDOWS\\\\System32\\\\Wbem;C:\\\\WINDOWS\\\\System32\\\\WindowsPowerShell\\\\v1.0;C:\\\\WINDOWS\\\\System32\\\\OpenSSH;C:\\\\Program Files\\\\Git\\\\cmd;C:\\\\Program Files\\\\dotnet;C:\\\\Users\\\\kil4g\\\\AppData\\\\Local\\\\Programs\\\\Python\\\\Python39\\\\Scripts;C:\\\\Users\\\\kil4g\\\\AppData\\\\Local\\\\Programs\\\\Python\\\\Python39;C:\\\\Users\\\\kil4g\\\\AppData\\\\Local\\\\Microsoft\\\\WindowsApps;D:\\\\IntelliJ IDEA 2021.2.1\\\\bin;D:\\\\CLion 2021.3.1\\\\bin;C:\\\\Program Files\\\\heroku\\\\bin;D:\\\\PyCharm 2022.1.4\\\\bin;D:\\\\DataSpell 2022.1.4\\\\bin;C:\\\\Users\\\\kil4g\\\\AppData\\\\Local\\\\JetBrains\\\\Toolbox\\\\scripts;C:\\\\Program Files\\\\Java\\\\jdk1.8.0_201\\\\bin;C:\\\\Users\\\\kil4g\\\\.dotnet\\\\tools',\n        'PATHEXT': '.COM;.EXE;.BAT;.CMD;.VBS;.VBE;.JS;.JSE;.WSF;.WSH;.MSC',\n        'PROCESSOR_ARCHITECTURE': 'AMD64',\n        'PROCESSOR_IDENTIFIER': 'AMD64 Family 23 Model 24 Stepping 1, AuthenticAMD',\n        'PROCESSOR_LEVEL': '23',\n        'PROCESSOR_REVISION': '1801',\n        'PROGRAMDATA': 'C:\\\\ProgramData',\n        'PROGRAMFILES': 'C:\\\\Program Files',\n        'PROGRAMFILES(X86)': 'C:\\\\Program Files (x86)',\n        'PROGRAMW6432': 'C:\\\\Program Files',\n        'PROMPT': '(PyCharnEnv) $P$G',\n        'PSMODULEPATH': '%ProgramFiles%\\\\WindowsPowerShell\\\\Modules;C:\\\\WINDOWS\\\\system32\\\\WindowsPowerShell\\\\v1.0\\\\Modules',\n        'PUBLIC': 'C:\\\\Users\\\\Public',\n        'PYCHARM': 'D:\\\\PyCharm 2022.1.4\\\\bin;',\n        'PYTHONPATH': 'D:\\\\Projects\\\\moretech_prokhodilimimo',\n        'SESSIONNAME': 'Console',\n        'SPARK_HOME': 'D:\\\\Spark\\\\spark-3.3.0-bin-hadoop3',\n        'SYSTEMDRIVE': 'C:',\n        'SYSTEMROOT': 'C:\\\\WINDOWS',\n        'TEMP': 'C:\\\\Users\\\\kil4g\\\\AppData\\\\Local\\\\Temp',\n        'TMP': 'C:\\\\Users\\\\kil4g\\\\AppData\\\\Local\\\\Temp',\n        'USERDOMAIN': 'LAPTOP-TRT2TLVA',\n        'USERDOMAIN_ROAMINGPROFILE': 'LAPTOP-TRT2TLVA',\n        'USERNAME': 'kil4g',\n        'USERPROFILE': 'C:\\\\Users\\\\kil4g',\n        'VBOX_MSI_INSTALL_PATH': 'D:\\\\VirtualBox\\\\',\n        'WINDIR': 'C:\\\\WINDOWS',\n        'PYDEVD_USE_FRAME_EVAL': 'NO',\n        'JPY_INTERRUPT_EVENT': '2820',\n        'IPY_INTERRUPT_EVENT': '2820',\n        'JPY_PARENT_PID': '2816',\n        'TERM': 'xterm-color',\n        'CLICOLOR': '1',\n        'PAGER': 'cat',\n        'GIT_PAGER': 'cat',\n        'MPLBACKEND': 'module://matplotlib_inline.backend_inline'}"
     },
     "execution_count": 2,
     "metadata": {},
     "output_type": "execute_result"
    }
   ],
   "source": [
    "import os\n",
    "os.environ"
   ],
   "metadata": {
    "collapsed": false,
    "pycharm": {
     "name": "#%%\n"
    }
   }
  },
  {
   "cell_type": "code",
   "execution_count": null,
   "outputs": [],
   "source": [],
   "metadata": {
    "collapsed": false,
    "pycharm": {
     "name": "#%%\n"
    }
   }
  }
 ],
 "metadata": {
  "kernelspec": {
   "display_name": "Python 3",
   "language": "python",
   "name": "python3"
  },
  "language_info": {
   "codemirror_mode": {
    "name": "ipython",
    "version": 2
   },
   "file_extension": ".py",
   "mimetype": "text/x-python",
   "name": "python",
   "nbconvert_exporter": "python",
   "pygments_lexer": "ipython2",
   "version": "2.7.6"
  }
 },
 "nbformat": 4,
 "nbformat_minor": 0
}
