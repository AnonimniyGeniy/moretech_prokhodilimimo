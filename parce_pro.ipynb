{
 "cells": [
  {
   "cell_type": "code",
   "execution_count": 80,
   "metadata": {
    "collapsed": true
   },
   "outputs": [],
   "source": [
    "from selenium import webdriver\n",
    "import time\n",
    "from selenium.webdriver.common.keys import Keys\n",
    "from selenium.webdriver.common.by import By\n",
    "# -*- coding: utf-8 -*-\n",
    "import requests\n",
    "from bs4 import BeautifulSoup\n",
    "import json\n",
    "import pandas as pd\n",
    "from selenium.webdriver.chrome.service import Service\n",
    "from webdriver_manager.chrome import ChromeDriverManager"
   ]
  },
  {
   "cell_type": "code",
   "execution_count": 81,
   "outputs": [
    {
     "name": "stderr",
     "output_type": "stream",
     "text": [
      "C:\\Users\\дом.DESKTOP-A3U9TO1\\AppData\\Local\\Temp\\ipykernel_36396\\2254764488.py:3: DeprecationWarning: executable_path has been deprecated, please pass in a Service object\n",
      "  driver = webdriver.Chrome(executable_path=\"C:\\\\Users\\\\дом.DESKTOP-A3U9TO1\\\\DataspellProjects\\\\moretech_prokhodilimimo\\\\chromedriver\\\\chromedriver.exe\")\n"
     ]
    },
    {
     "name": "stdout",
     "output_type": "stream",
     "text": [
      "1\n",
      "<selenium.webdriver.remote.webelement.WebElement (session=\"80ff0a01ff630e7591db2b101257f24f\", element=\"bf24818b-1821-449c-a85e-27e261a7a28c\")>\n"
     ]
    }
   ],
   "source": [
    "url = 'https://www.forbes.ru/biznes'\n",
    "links = []\n",
    "driver = webdriver.Chrome(executable_path=\"C:\\\\Users\\\\дом.DESKTOP-A3U9TO1\\\\DataspellProjects\\\\moretech_prokhodilimimo\\\\chromedriver\\\\chromedriver.exe\")\n",
    "\n",
    "try:\n",
    "    driver.get(url=url)\n",
    "    time.sleep(1)\n",
    "    print(1)\n",
    "    elem = driver.find_element(By.TAG_NAME, \"body\")\n",
    "    print(elem)\n",
    "    no_of_pagedowns = 50\n",
    "    while no_of_pagedowns:\n",
    "        elem.send_keys(Keys.PAGE_UP)\n",
    "        time.sleep(0.1)\n",
    "        elem.send_keys(Keys.END)\n",
    "        time.sleep(0.2)\n",
    "        no_of_pagedowns-=1\n",
    "    html = driver.page_source\n",
    "\n",
    "    soup = BeautifulSoup(html, 'lxml')\n",
    "\n",
    "except Exception as e:\n",
    "    print(e)\n",
    "finally:\n",
    "    driver.close()\n",
    "    driver.quit()\n"
   ],
   "metadata": {
    "collapsed": false
   }
  },
  {
   "cell_type": "code",
   "execution_count": 82,
   "outputs": [],
   "source": [
    "#print(soup.text)\n",
    "news_links = soup.find_all('a')\n",
    "links_array = []\n",
    "for i in range(len(news_links)):\n",
    "    link = news_links[i].get('href').split('?')[0]\n",
    "    if link[0] != 'h' and len(link) >= 18 and '@' not in link:\n",
    "        links_array.append('https://www.forbes.ru' + link)\n",
    "#print(links_array)\n",
    "#print(news_links)"
   ],
   "metadata": {
    "collapsed": false
   }
  },
  {
   "cell_type": "code",
   "execution_count": 84,
   "outputs": [
    {
     "name": "stdout",
     "output_type": "stream",
     "text": [
      "finished\n"
     ]
    }
   ],
   "source": [
    "#print(soup)\n",
    "def get_soup(url):\n",
    "    r = requests.get(url).text\n",
    "    return BeautifulSoup(r, 'lxml')\n",
    "\n",
    "\n",
    "def save_json(data):\n",
    "    with open('forbes_biznes_data.json', \"w\", encoding=\"utf-8\") as file:\n",
    "        json.dump(data, file, ensure_ascii=False, indent=4)\n",
    "\n",
    "def main():\n",
    "    news_data = {}\n",
    "\n",
    "    for i in range(len(links_array)):\n",
    "\n",
    "        link = links_array[i]\n",
    "        #print(link)\n",
    "        name = link\n",
    "        news_data[name] = {}\n",
    "        soup = get_soup(link)\n",
    "        #print(soup.text)\n",
    "\n",
    "        # Переходим на страницу для дальнейшенго парсинга\n",
    "        article = soup.find_all(attrs={'itemprop' : 'articleBody'})\n",
    "\n",
    "        #print(article[0].get_text())\n",
    "\n",
    "        title = soup.title\n",
    "        article_text = ''\n",
    "        try:\n",
    "            for paragraph in article:\n",
    "                paragraph = paragraph.get_text()\n",
    "                article_text+=paragraph\n",
    "            #print(article_paragraphs)\n",
    "\n",
    "        except AttributeError:\n",
    "            continue\n",
    "\n",
    "        #print(article_text)\n",
    "\n",
    "        \"\"\"for paragraph in article_paragraphs:\n",
    "            #article_text += paragraph.text\n",
    "            article_text += paragraph\n",
    "            print(paragraph)\n",
    "        print(article_text)\"\"\"\n",
    "\n",
    "        # Заполняем полученными данными news_data\n",
    "        news_data[name]['link'] = link\n",
    "        #news_data[name]['date'] = date\n",
    "        news_data[name]['text'] = article_text.replace('\\xa0', '').replace('\\n', ' ').replace('\\r', ' ')\n",
    "\n",
    "        try:\n",
    "            news_data[name]['title'] = title.text\n",
    "        except AttributeError:\n",
    "            news_data[name]['title'] = 'Без заголовка'\n",
    "\n",
    "\n",
    "    save_json(news_data)\n",
    "    print(\"finished\")\n",
    "\n",
    "\n",
    "pd.read_json(open(\"forbes_biznes_data.json\", encoding='utf-8')).transpose().reset_index(drop=True).to_csv(\"parced_data/forbes_data.csv\")\n",
    "\n",
    "\n",
    "\n",
    "if __name__ == \"__main__\":\n",
    "    main()"
   ],
   "metadata": {
    "collapsed": false
   }
  },
  {
   "cell_type": "code",
   "execution_count": null,
   "outputs": [],
   "source": [],
   "metadata": {
    "collapsed": false
   }
  },
  {
   "cell_type": "code",
   "execution_count": null,
   "outputs": [],
   "source": [],
   "metadata": {
    "collapsed": false
   }
  }
 ],
 "metadata": {
  "kernelspec": {
   "display_name": "Python 3",
   "language": "python",
   "name": "python3"
  },
  "language_info": {
   "codemirror_mode": {
    "name": "ipython",
    "version": 2
   },
   "file_extension": ".py",
   "mimetype": "text/x-python",
   "name": "python",
   "nbconvert_exporter": "python",
   "pygments_lexer": "ipython2",
   "version": "2.7.6"
  }
 },
 "nbformat": 4,
 "nbformat_minor": 0
}
