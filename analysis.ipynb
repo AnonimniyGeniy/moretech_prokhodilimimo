{
 "cells": [
  {
   "cell_type": "code",
   "execution_count": null,
   "outputs": [],
   "source": [
    "!pip install natasha"
   ],
   "metadata": {
    "collapsed": false,
    "pycharm": {
     "name": "#%%\n"
    }
   }
  },
  {
   "cell_type": "code",
   "execution_count": null,
   "outputs": [],
   "source": [
    "# importing all necessary modules\n",
    "from wordcloud import WordCloud, STOPWORDS\n",
    "import matplotlib.pyplot as plt\n",
    "import pandas as pd\n",
    "from re import split as splt\n",
    "import natasha\n",
    "# Reads 'Youtube04-Eminem.csv' file\n",
    "df = pd.read_csv(r\"parced_data/merged_data.csv\", encoding =\"utf-8\")\n",
    "\n",
    "comment_words = ''\n",
    "stopwords = set(STOPWORDS)\n",
    "set1 = []\n",
    "\n",
    "# iterate through the csv file\n",
    "for i in range(len(df)):\n",
    "    text = df['text'][i]\n",
    "    #print(type(text))\n",
    "    text = splt(\" '.,«»*-+\", str(text).lower())\n",
    "\n",
    "\n",
    "    for j in text:\n",
    "        set1 += [j]\n",
    "\n",
    "sp = list(set1)\n",
    "\n",
    "wordcloud = WordCloud(width = 800, height = 800,\n",
    "                      background_color ='white',\n",
    "                      stopwords = stopwords,\n",
    "                      min_font_size = 10).generate(\" \".join(sp))\n",
    "\n",
    "# plot the WordCloud image\n",
    "plt.figure(figsize = (8, 8), facecolor = None)\n",
    "plt.imshow(wordcloud)\n",
    "plt.axis(\"off\")\n",
    "plt.tight_layout(pad = 0)\n",
    "\n",
    "plt.show()"
   ],
   "metadata": {
    "collapsed": false,
    "pycharm": {
     "name": "#%%\n"
    }
   }
  }
 ],
 "metadata": {
  "kernelspec": {
   "display_name": "Python 3",
   "language": "python",
   "name": "python3"
  },
  "language_info": {
   "codemirror_mode": {
    "name": "ipython",
    "version": 2
   },
   "file_extension": ".py",
   "mimetype": "text/x-python",
   "name": "python",
   "nbconvert_exporter": "python",
   "pygments_lexer": "ipython2",
   "version": "2.7.6"
  }
 },
 "nbformat": 4,
 "nbformat_minor": 0
}
