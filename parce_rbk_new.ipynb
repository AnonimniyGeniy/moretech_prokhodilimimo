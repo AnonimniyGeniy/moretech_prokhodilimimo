{
 "cells": [
  {
   "cell_type": "code",
   "execution_count": 1,
   "outputs": [],
   "source": [
    "# Импорт библиотек\n",
    "import requests as rq\n",
    "from bs4 import BeautifulSoup as bs\n",
    "import pandas as pd"
   ],
   "metadata": {
    "collapsed": false,
    "pycharm": {
     "name": "#%%\n"
    }
   }
  },
  {
   "cell_type": "code",
   "execution_count": 30,
   "outputs": [],
   "source": [
    "class RbcParser:\n",
    "    def __init__(self):\n",
    "        pass\n",
    "\n",
    "    def get_search_table(self, param_dict: dict) -> pd.DataFrame:\n",
    "        \"\"\"\n",
    "        Возвращает pd.DataFrame со списком статей\n",
    "\n",
    "        includeText: bool\n",
    "        ### Если True, статьи возвращаются с текстами\n",
    "        \"\"\"\n",
    "        soup = bs(rq.get(\"https://www.rbc.ru/v10/ajax/get-news-by-filters/\", param_dict).json()[\"html\"], \"lxml\")\n",
    "        return pd.DataFrame([{\"title\": ' '.join(soupchik.find(\"span\", {\"class\": \"item__title rm-cm-item-text\"}).text.split()),\n",
    "                              \"href\": soupchik[\"href\"],\n",
    "                              \"text\": self.get_article_data(soupchik[\"href\"])}\n",
    "                             for soupchik in soup.find_all(\"a\", {\"class\": \"item__link\"})])\n",
    "\n",
    "\n",
    "    def get_article_data(self, url: str):\n",
    "        \"\"\"\n",
    "        Возвращает описание и текст статьи по ссылке\n",
    "        \"\"\"\n",
    "        r = rq.get(url)\n",
    "        soup = bs(r.text, features=\"lxml\")\n",
    "\n",
    "\n",
    "        text = None\n",
    "        p_text = soup.find_all('p')\n",
    "        if p_text:\n",
    "            text = ' '.join(map(lambda x:\n",
    "                                x.text.replace('<br />','\\n').strip(),\n",
    "                                p_text))\n",
    "\n",
    "        return text\n",
    "\n",
    "    def get_articles(self, param_dict) -> pd.DataFrame:\n",
    "        \"\"\"\n",
    "        param_dict: dict\n",
    "        ### Параметры запроса\n",
    "        ###### category - категория поиска\n",
    "        ###### offset - смещение поисковой выдачи\n",
    "        ###### step - шаг подгрузки, 12\n",
    "        ###### limit - лимит статей\n",
    "        \"\"\"\n",
    "\n",
    "        offset = param_dict[\"offset\"]\n",
    "        limit = param_dict[\"limit\"]\n",
    "        step = param_dict[\"step\"]\n",
    "        category = param_dict[\"category\"]\n",
    "        request_params = {\n",
    "            \"limit\": step,\n",
    "            \"category\": category\n",
    "            }\n",
    "\n",
    "        out = pd.DataFrame()\n",
    "\n",
    "        while offset < limit:\n",
    "            request_params[\"offset\"] = offset\n",
    "\n",
    "\n",
    "            print(f'Parsing articles from {offset} to {offset+step}')\n",
    "            out = pd.concat([out, self.get_search_table(request_params)], ignore_index=True)\n",
    "            print(f\"Total news: {len(out)}\")\n",
    "            offset += step\n",
    "\n",
    "        print('Finish')\n",
    "\n",
    "        return out"
   ],
   "metadata": {
    "collapsed": false,
    "pycharm": {
     "name": "#%%\n"
    }
   }
  },
  {
   "cell_type": "code",
   "execution_count": 43,
   "outputs": [
    {
     "name": "stdout",
     "output_type": "stream",
     "text": [
      "param_dict: {'category': 'business', 'offset': 0, 'limit': 30, 'step': 12}\n"
     ]
    }
   ],
   "source": [
    "# Задаем параметры запросы и складываем в param_dict\n",
    "param_dict = \\\n",
    "    {\n",
    "        'category': 'business',\n",
    "        'offset': 0,\n",
    "        'limit': 30,\n",
    "        'step': 12\n",
    "    }\n",
    "\n",
    "\n",
    "print(\"param_dict:\", param_dict)"
   ],
   "metadata": {
    "collapsed": false,
    "pycharm": {
     "name": "#%%\n"
    }
   }
  },
  {
   "cell_type": "code",
   "execution_count": 44,
   "outputs": [
    {
     "name": "stdout",
     "output_type": "stream",
     "text": [
      "Parsing articles from 0 to 12\n",
      "Total news: 12\n",
      "Parsing articles from 12 to 24\n",
      "Total news: 24\n",
      "Parsing articles from 24 to 36\n",
      "Total news: 36\n",
      "Finish\n"
     ]
    },
    {
     "data": {
      "text/plain": "                                               title  \\\n0  Туроператоры оценили возможное количество тури...   \n1  Компания Абрамовича купила здание столовой дом...   \n2  ЕС запретил ввоз пластмассы из России почти на...   \n3  Путин отстранил «дочку» ExxonMobil от проекта ...   \n4  «Кузбассразрезуголь» рассказал о проблемах с п...   \n\n                                                href  \\\n0  https://www.rbc.ru/business/08/10/2022/6341392...   \n1  https://www.rbc.ru/business/08/10/2022/633ec7b...   \n2  https://www.rbc.ru/business/08/10/2022/633ff8b...   \n3  https://www.rbc.ru/business/07/10/2022/634071e...   \n4  https://www.rbc.ru/business/07/10/2022/634021d...   \n\n                                                text  \n0  В Крыму сейчас может находиться порядка 50 тыс...  \n1  Компания «Парк девелопмент», подконтрольная Mi...  \n2  Евросоюз в рамках восьмого пакета санкций прот...  \n3  Президент Владимир Путин подписал указ о созда...  \n4  Второй крупнейший производитель угля в России ...  ",
      "text/html": "<div>\n<style scoped>\n    .dataframe tbody tr th:only-of-type {\n        vertical-align: middle;\n    }\n\n    .dataframe tbody tr th {\n        vertical-align: top;\n    }\n\n    .dataframe thead th {\n        text-align: right;\n    }\n</style>\n<table border=\"1\" class=\"dataframe\">\n  <thead>\n    <tr style=\"text-align: right;\">\n      <th></th>\n      <th>title</th>\n      <th>href</th>\n      <th>text</th>\n    </tr>\n  </thead>\n  <tbody>\n    <tr>\n      <th>0</th>\n      <td>Туроператоры оценили возможное количество тури...</td>\n      <td>https://www.rbc.ru/business/08/10/2022/6341392...</td>\n      <td>В Крыму сейчас может находиться порядка 50 тыс...</td>\n    </tr>\n    <tr>\n      <th>1</th>\n      <td>Компания Абрамовича купила здание столовой дом...</td>\n      <td>https://www.rbc.ru/business/08/10/2022/633ec7b...</td>\n      <td>Компания «Парк девелопмент», подконтрольная Mi...</td>\n    </tr>\n    <tr>\n      <th>2</th>\n      <td>ЕС запретил ввоз пластмассы из России почти на...</td>\n      <td>https://www.rbc.ru/business/08/10/2022/633ff8b...</td>\n      <td>Евросоюз в рамках восьмого пакета санкций прот...</td>\n    </tr>\n    <tr>\n      <th>3</th>\n      <td>Путин отстранил «дочку» ExxonMobil от проекта ...</td>\n      <td>https://www.rbc.ru/business/07/10/2022/634071e...</td>\n      <td>Президент Владимир Путин подписал указ о созда...</td>\n    </tr>\n    <tr>\n      <th>4</th>\n      <td>«Кузбассразрезуголь» рассказал о проблемах с п...</td>\n      <td>https://www.rbc.ru/business/07/10/2022/634021d...</td>\n      <td>Второй крупнейший производитель угля в России ...</td>\n    </tr>\n  </tbody>\n</table>\n</div>"
     },
     "execution_count": 44,
     "metadata": {},
     "output_type": "execute_result"
    }
   ],
   "source": [
    "# Действует ограничение в 10 статей на 1 запрос (параметром limit)\n",
    "\n",
    "parser = RbcParser()\n",
    "# Пример работы программы итеративного сбора большого количества текстов статей\n",
    "# Работает, конечно, очень долго :(\n",
    "table = parser.get_articles(param_dict = param_dict)\n",
    "table.to_csv(\"rbk_last_news.csv\")\n",
    "table.head()"
   ],
   "metadata": {
    "collapsed": false,
    "pycharm": {
     "name": "#%%\n"
    }
   }
  },
  {
   "cell_type": "code",
   "execution_count": 46,
   "outputs": [
    {
     "data": {
      "text/plain": "                                                title  \\\n0   Туроператоры оценили возможное количество тури...   \n1   Компания Абрамовича купила здание столовой дом...   \n2   ЕС запретил ввоз пластмассы из России почти на...   \n3   Путин отстранил «дочку» ExxonMobil от проекта ...   \n4   «Кузбассразрезуголь» рассказал о проблемах с п...   \n5   Производитель бумаги SvetoCopy продал бизнес в...   \n6   «Северсталь» опровергла передачу доли Мордашов...   \n7   Новым владельцем Lamoda станет собственник уни...   \n8   Власти обсудят новую программу по замене элект...   \n9   Переориентация на внутренний рынок: новые реал...   \n10            Российские магазины OBI сменят название   \n11  В Британии предупредили о возможных отключения...   \n12  ЕС запретит импорт стальных полуфабрикатов из ...   \n13  Инвестгруппа «Инсайт» купила лизинговую «дочку...   \n14  ЕС запретил страховать суда с нефтью из России...   \n15  «Аэрофлот» повысил цену на услугу сопровождени...   \n16  Большинство компаний сочли некритичным вопрос ...   \n17  Микрозаймы и краудинвестинг: что нужно знать о...   \n18  Минфин оценил доходы от ужесточения табачного ...   \n19  Алексей Борисов Гранты на ИТ: как получить под...   \n20  Bloomberg узнал об отмене ареста «яхты Кузьмич...   \n21  Глава TotalEnergies счел «плохой идеей» потоло...   \n22  Минцифры назвало дату публикации направлений д...   \n23  Новак пообещал не поставлять нефть в страны, к...   \n24  Новак заявил о готовности поставлять газ по уц...   \n25         Страны ОПЕК+ решили сократить добычу нефти   \n26  Эквадор оценил потери поставок бананов из-за к...   \n27  Минстрой предложил продлить отмену экологическ...   \n28  Продажи прокладок падают пятый месяц подряд по...   \n29  Экс-глава McKinsey c партнерами подсчитали пот...   \n30  FT узнала о планах России и Саудовской Аравии ...   \n31  Финляндия не дала разрешения на экспорт заказа...   \n32  «Молдовагаз» пообещал обсудить погашение «исто...   \n33  «Газпром» заявил о праве прекратить поставки М...   \n34  Минфин предложил поднять минимальные цены на и...   \n35  Reuters узнал, что США не будут ограничивать з...   \n\n                                                 href  \\\n0   https://www.rbc.ru/business/08/10/2022/6341392...   \n1   https://www.rbc.ru/business/08/10/2022/633ec7b...   \n2   https://www.rbc.ru/business/08/10/2022/633ff8b...   \n3   https://www.rbc.ru/business/07/10/2022/634071e...   \n4   https://www.rbc.ru/business/07/10/2022/634021d...   \n5   https://www.rbc.ru/business/07/10/2022/63400af...   \n6   https://www.rbc.ru/business/07/10/2022/634010b...   \n7   https://www.rbc.ru/business/07/10/2022/633ffed...   \n8   https://www.rbc.ru/business/07/10/2022/633ee81...   \n9   https://www.rbc.ru/business/07/10/2022/6336efb...   \n10  https://www.rbc.ru/business/07/10/2022/633f87c...   \n11  https://www.rbc.ru/business/07/10/2022/633f4e2...   \n12  https://www.rbc.ru/business/06/10/2022/633f00f...   \n13  https://www.rbc.ru/rbcfreenews/633f06549a79470...   \n14  https://www.rbc.ru/business/06/10/2022/633f001...   \n15  https://www.rbc.ru/business/06/10/2022/633e9b3...   \n16  https://www.rbc.ru/business/06/10/2022/633ebd6...   \n17  https://www.rbc.ru/business/06/10/2022/633b015...   \n18  https://www.rbc.ru/business/06/10/2022/633d97c...   \n19  https://www.rbc.ru/opinions/business/06/10/202...   \n20  https://www.rbc.ru/business/06/10/2022/633dba2...   \n21  https://www.rbc.ru/business/06/10/2022/633de3b...   \n22  https://www.rbc.ru/business/05/10/2022/633dd5c...   \n23  https://www.rbc.ru/business/05/10/2022/633dab3...   \n24  https://www.rbc.ru/business/05/10/2022/633da49...   \n25  https://www.rbc.ru/business/05/10/2022/633d82c...   \n26  https://www.rbc.ru/business/05/10/2022/633b077...   \n27  https://www.rbc.ru/business/05/10/2022/633bf79...   \n28  https://www.rbc.ru/business/05/10/2022/633c0b0...   \n29  https://www.rbc.ru/business/05/10/2022/633c376...   \n30  https://www.rbc.ru/business/04/10/2022/633c894...   \n31  https://www.rbc.ru/business/04/10/2022/633c5cb...   \n32  https://www.rbc.ru/rbcfreenews/633c4f6f9a7947b...   \n33  https://www.rbc.ru/business/04/10/2022/633c308...   \n34  https://www.rbc.ru/rbcfreenews/633c27999a7947a...   \n35  https://www.rbc.ru/business/04/10/2022/633c1d4...   \n\n                                                 text  \n0   В Крыму сейчас может находиться порядка 50 тыс...  \n1   Компания «Парк девелопмент», подконтрольная Mi...  \n2   Евросоюз в рамках восьмого пакета санкций прот...  \n3   Президент Владимир Путин подписал указ о созда...  \n4   Второй крупнейший производитель угля в России ...  \n5   Американская компания Sylvamo, которая выпуска...  \n6   В «Северстали» опровергли сообщение о планах А...  \n7   Владелец онлайн-магазина Lamoda — сингапурская...  \n8   Для развития городского наземного электрическо...  \n9   По данным Минпромторга России, производство ме...  \n10  Сеть российских магазинов товаров для дома и с...  \n11  Оператор британской энергосистемы National Gri...  \n12  Евросоюз в рамках восьмого санкционного пакета...  \n13  Инвестиционная группа «Инсайт» выкупила лизинг...  \n14  В рамках предельного уровня цен на российскую ...  \n15  Компания «Аэрофлот» повысила цены на услугу по...  \n16  Более 44% опрошенных компаний считают неактуал...  \n17  Спрос бизнеса на кредиты в рамках программы по...  \n18  Во внесенном в Госдуму проекте федерального бю...  \n19  Главная сложность цифровизации бизнес-процессо...  \n20  Апелляционный суд в Париже частично удовлетвор...  \n21  Введение Евросоюзом предельных цен на российск...  \n22  Минцифры в четверг, 6 октября, опубликует прое...  \n23  Россия не будет поставлять нефть в страны, кот...  \n24  Россия готова поставлять газ по неповрежденной...  \n25  В среду, 5 октября, министры стран — участниц ...  \n26  Ассоциация экспортеров бананов Эквадора (Asoci...  \n27  Экологическая и историко-культурная экспертиза...  \n28  Продажи наиболее популярных товаров женской ги...  \n29  Общие затраты Евросоюза на борьбу с кризисом и...  \n30  Россия, Саудовская Аравия и другие производите...  \n31  МИД Финляндии не разрешил компании Helsinki Sh...  \n32  Компания «Молдовагаз» сделает все, чтобы выпол...  \n33  «Газпром» сообщил, что в отношении Молдавии «о...  \n34  Министерство финансов предложило повысить мини...  \n35  США не будут вводить никаких запретов или огра...  ",
      "text/html": "<div>\n<style scoped>\n    .dataframe tbody tr th:only-of-type {\n        vertical-align: middle;\n    }\n\n    .dataframe tbody tr th {\n        vertical-align: top;\n    }\n\n    .dataframe thead th {\n        text-align: right;\n    }\n</style>\n<table border=\"1\" class=\"dataframe\">\n  <thead>\n    <tr style=\"text-align: right;\">\n      <th></th>\n      <th>title</th>\n      <th>href</th>\n      <th>text</th>\n    </tr>\n  </thead>\n  <tbody>\n    <tr>\n      <th>0</th>\n      <td>Туроператоры оценили возможное количество тури...</td>\n      <td>https://www.rbc.ru/business/08/10/2022/6341392...</td>\n      <td>В Крыму сейчас может находиться порядка 50 тыс...</td>\n    </tr>\n    <tr>\n      <th>1</th>\n      <td>Компания Абрамовича купила здание столовой дом...</td>\n      <td>https://www.rbc.ru/business/08/10/2022/633ec7b...</td>\n      <td>Компания «Парк девелопмент», подконтрольная Mi...</td>\n    </tr>\n    <tr>\n      <th>2</th>\n      <td>ЕС запретил ввоз пластмассы из России почти на...</td>\n      <td>https://www.rbc.ru/business/08/10/2022/633ff8b...</td>\n      <td>Евросоюз в рамках восьмого пакета санкций прот...</td>\n    </tr>\n    <tr>\n      <th>3</th>\n      <td>Путин отстранил «дочку» ExxonMobil от проекта ...</td>\n      <td>https://www.rbc.ru/business/07/10/2022/634071e...</td>\n      <td>Президент Владимир Путин подписал указ о созда...</td>\n    </tr>\n    <tr>\n      <th>4</th>\n      <td>«Кузбассразрезуголь» рассказал о проблемах с п...</td>\n      <td>https://www.rbc.ru/business/07/10/2022/634021d...</td>\n      <td>Второй крупнейший производитель угля в России ...</td>\n    </tr>\n    <tr>\n      <th>5</th>\n      <td>Производитель бумаги SvetoCopy продал бизнес в...</td>\n      <td>https://www.rbc.ru/business/07/10/2022/63400af...</td>\n      <td>Американская компания Sylvamo, которая выпуска...</td>\n    </tr>\n    <tr>\n      <th>6</th>\n      <td>«Северсталь» опровергла передачу доли Мордашов...</td>\n      <td>https://www.rbc.ru/business/07/10/2022/634010b...</td>\n      <td>В «Северстали» опровергли сообщение о планах А...</td>\n    </tr>\n    <tr>\n      <th>7</th>\n      <td>Новым владельцем Lamoda станет собственник уни...</td>\n      <td>https://www.rbc.ru/business/07/10/2022/633ffed...</td>\n      <td>Владелец онлайн-магазина Lamoda — сингапурская...</td>\n    </tr>\n    <tr>\n      <th>8</th>\n      <td>Власти обсудят новую программу по замене элект...</td>\n      <td>https://www.rbc.ru/business/07/10/2022/633ee81...</td>\n      <td>Для развития городского наземного электрическо...</td>\n    </tr>\n    <tr>\n      <th>9</th>\n      <td>Переориентация на внутренний рынок: новые реал...</td>\n      <td>https://www.rbc.ru/business/07/10/2022/6336efb...</td>\n      <td>По данным Минпромторга России, производство ме...</td>\n    </tr>\n    <tr>\n      <th>10</th>\n      <td>Российские магазины OBI сменят название</td>\n      <td>https://www.rbc.ru/business/07/10/2022/633f87c...</td>\n      <td>Сеть российских магазинов товаров для дома и с...</td>\n    </tr>\n    <tr>\n      <th>11</th>\n      <td>В Британии предупредили о возможных отключения...</td>\n      <td>https://www.rbc.ru/business/07/10/2022/633f4e2...</td>\n      <td>Оператор британской энергосистемы National Gri...</td>\n    </tr>\n    <tr>\n      <th>12</th>\n      <td>ЕС запретит импорт стальных полуфабрикатов из ...</td>\n      <td>https://www.rbc.ru/business/06/10/2022/633f00f...</td>\n      <td>Евросоюз в рамках восьмого санкционного пакета...</td>\n    </tr>\n    <tr>\n      <th>13</th>\n      <td>Инвестгруппа «Инсайт» купила лизинговую «дочку...</td>\n      <td>https://www.rbc.ru/rbcfreenews/633f06549a79470...</td>\n      <td>Инвестиционная группа «Инсайт» выкупила лизинг...</td>\n    </tr>\n    <tr>\n      <th>14</th>\n      <td>ЕС запретил страховать суда с нефтью из России...</td>\n      <td>https://www.rbc.ru/business/06/10/2022/633f001...</td>\n      <td>В рамках предельного уровня цен на российскую ...</td>\n    </tr>\n    <tr>\n      <th>15</th>\n      <td>«Аэрофлот» повысил цену на услугу сопровождени...</td>\n      <td>https://www.rbc.ru/business/06/10/2022/633e9b3...</td>\n      <td>Компания «Аэрофлот» повысила цены на услугу по...</td>\n    </tr>\n    <tr>\n      <th>16</th>\n      <td>Большинство компаний сочли некритичным вопрос ...</td>\n      <td>https://www.rbc.ru/business/06/10/2022/633ebd6...</td>\n      <td>Более 44% опрошенных компаний считают неактуал...</td>\n    </tr>\n    <tr>\n      <th>17</th>\n      <td>Микрозаймы и краудинвестинг: что нужно знать о...</td>\n      <td>https://www.rbc.ru/business/06/10/2022/633b015...</td>\n      <td>Спрос бизнеса на кредиты в рамках программы по...</td>\n    </tr>\n    <tr>\n      <th>18</th>\n      <td>Минфин оценил доходы от ужесточения табачного ...</td>\n      <td>https://www.rbc.ru/business/06/10/2022/633d97c...</td>\n      <td>Во внесенном в Госдуму проекте федерального бю...</td>\n    </tr>\n    <tr>\n      <th>19</th>\n      <td>Алексей Борисов Гранты на ИТ: как получить под...</td>\n      <td>https://www.rbc.ru/opinions/business/06/10/202...</td>\n      <td>Главная сложность цифровизации бизнес-процессо...</td>\n    </tr>\n    <tr>\n      <th>20</th>\n      <td>Bloomberg узнал об отмене ареста «яхты Кузьмич...</td>\n      <td>https://www.rbc.ru/business/06/10/2022/633dba2...</td>\n      <td>Апелляционный суд в Париже частично удовлетвор...</td>\n    </tr>\n    <tr>\n      <th>21</th>\n      <td>Глава TotalEnergies счел «плохой идеей» потоло...</td>\n      <td>https://www.rbc.ru/business/06/10/2022/633de3b...</td>\n      <td>Введение Евросоюзом предельных цен на российск...</td>\n    </tr>\n    <tr>\n      <th>22</th>\n      <td>Минцифры назвало дату публикации направлений д...</td>\n      <td>https://www.rbc.ru/business/05/10/2022/633dd5c...</td>\n      <td>Минцифры в четверг, 6 октября, опубликует прое...</td>\n    </tr>\n    <tr>\n      <th>23</th>\n      <td>Новак пообещал не поставлять нефть в страны, к...</td>\n      <td>https://www.rbc.ru/business/05/10/2022/633dab3...</td>\n      <td>Россия не будет поставлять нефть в страны, кот...</td>\n    </tr>\n    <tr>\n      <th>24</th>\n      <td>Новак заявил о готовности поставлять газ по уц...</td>\n      <td>https://www.rbc.ru/business/05/10/2022/633da49...</td>\n      <td>Россия готова поставлять газ по неповрежденной...</td>\n    </tr>\n    <tr>\n      <th>25</th>\n      <td>Страны ОПЕК+ решили сократить добычу нефти</td>\n      <td>https://www.rbc.ru/business/05/10/2022/633d82c...</td>\n      <td>В среду, 5 октября, министры стран — участниц ...</td>\n    </tr>\n    <tr>\n      <th>26</th>\n      <td>Эквадор оценил потери поставок бананов из-за к...</td>\n      <td>https://www.rbc.ru/business/05/10/2022/633b077...</td>\n      <td>Ассоциация экспортеров бананов Эквадора (Asoci...</td>\n    </tr>\n    <tr>\n      <th>27</th>\n      <td>Минстрой предложил продлить отмену экологическ...</td>\n      <td>https://www.rbc.ru/business/05/10/2022/633bf79...</td>\n      <td>Экологическая и историко-культурная экспертиза...</td>\n    </tr>\n    <tr>\n      <th>28</th>\n      <td>Продажи прокладок падают пятый месяц подряд по...</td>\n      <td>https://www.rbc.ru/business/05/10/2022/633c0b0...</td>\n      <td>Продажи наиболее популярных товаров женской ги...</td>\n    </tr>\n    <tr>\n      <th>29</th>\n      <td>Экс-глава McKinsey c партнерами подсчитали пот...</td>\n      <td>https://www.rbc.ru/business/05/10/2022/633c376...</td>\n      <td>Общие затраты Евросоюза на борьбу с кризисом и...</td>\n    </tr>\n    <tr>\n      <th>30</th>\n      <td>FT узнала о планах России и Саудовской Аравии ...</td>\n      <td>https://www.rbc.ru/business/04/10/2022/633c894...</td>\n      <td>Россия, Саудовская Аравия и другие производите...</td>\n    </tr>\n    <tr>\n      <th>31</th>\n      <td>Финляндия не дала разрешения на экспорт заказа...</td>\n      <td>https://www.rbc.ru/business/04/10/2022/633c5cb...</td>\n      <td>МИД Финляндии не разрешил компании Helsinki Sh...</td>\n    </tr>\n    <tr>\n      <th>32</th>\n      <td>«Молдовагаз» пообещал обсудить погашение «исто...</td>\n      <td>https://www.rbc.ru/rbcfreenews/633c4f6f9a7947b...</td>\n      <td>Компания «Молдовагаз» сделает все, чтобы выпол...</td>\n    </tr>\n    <tr>\n      <th>33</th>\n      <td>«Газпром» заявил о праве прекратить поставки М...</td>\n      <td>https://www.rbc.ru/business/04/10/2022/633c308...</td>\n      <td>«Газпром» сообщил, что в отношении Молдавии «о...</td>\n    </tr>\n    <tr>\n      <th>34</th>\n      <td>Минфин предложил поднять минимальные цены на и...</td>\n      <td>https://www.rbc.ru/rbcfreenews/633c27999a7947a...</td>\n      <td>Министерство финансов предложило повысить мини...</td>\n    </tr>\n    <tr>\n      <th>35</th>\n      <td>Reuters узнал, что США не будут ограничивать з...</td>\n      <td>https://www.rbc.ru/business/04/10/2022/633c1d4...</td>\n      <td>США не будут вводить никаких запретов или огра...</td>\n    </tr>\n  </tbody>\n</table>\n</div>"
     },
     "execution_count": 46,
     "metadata": {},
     "output_type": "execute_result"
    }
   ],
   "source": [
    "pd.read_csv(\"rbk_last_news.csv\", index_col=0)"
   ],
   "metadata": {
    "collapsed": false,
    "pycharm": {
     "name": "#%%\n"
    }
   }
  }
 ],
 "metadata": {
  "kernelspec": {
   "display_name": "Python 3",
   "language": "python",
   "name": "python3"
  },
  "language_info": {
   "codemirror_mode": {
    "name": "ipython",
    "version": 2
   },
   "file_extension": ".py",
   "mimetype": "text/x-python",
   "name": "python",
   "nbconvert_exporter": "python",
   "pygments_lexer": "ipython2",
   "version": "2.7.6"
  }
 },
 "nbformat": 4,
 "nbformat_minor": 0
}