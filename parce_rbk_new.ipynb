{
 "cells": [
  {
   "cell_type": "code",
   "execution_count": 10,
   "outputs": [],
   "source": [
    "# Импорт библиотек\n",
    "import requests as rq\n",
    "from bs4 import BeautifulSoup as bs\n",
    "import pandas as pd\n",
    "import numpy as np\n",
    "from datetime import datetime, timedelta\n",
    "from IPython import display\n",
    "import json"
   ],
   "metadata": {
    "collapsed": false
   }
  },
  {
   "cell_type": "code",
   "execution_count": 32,
   "outputs": [
    {
     "name": "stdout",
     "output_type": "stream",
     "text": [
      "1\n"
     ]
    }
   ],
   "source": [
    "class rbc_parser:\n",
    "    def __init__(self):\n",
    "        pass\n",
    "\n",
    "\n",
    "    def _get_url(self, param_dict: dict) -> str:\n",
    "        \"\"\"\n",
    "        Возвращает URL для запроса json таблицы со статьями\n",
    "        \"\"\"\n",
    "        url = 'https://www.rbc.ru/v10/search/ajax/?\\\n",
    "        project={0}&\\\n",
    "        category={1}&\\\n",
    "        dateFrom={2}&\\\n",
    "        dateTo={3}&\\\n",
    "        offset={4}&\\\n",
    "        limit={5}&\\\n",
    "        query={6}&\\\n",
    "        material={7}'.format(param_dict['project'],\n",
    "                             param_dict['category'],\n",
    "                             param_dict['dateFrom'],\n",
    "                             param_dict['dateTo'],\n",
    "                             param_dict['offset'],\n",
    "                             param_dict['limit'],\n",
    "                             param_dict['query'],\n",
    "                             param_dict['material'])\n",
    "\n",
    "        return url\n",
    "\n",
    "\n",
    "    def _get_search_table(self, param_dict: dict,\n",
    "                          includeText: bool = True) -> pd.DataFrame:\n",
    "        \"\"\"\n",
    "        Возвращает pd.DataFrame со списком статей\n",
    "\n",
    "        includeText: bool\n",
    "        ### Если True, статьи возвращаются с текстами\n",
    "        \"\"\"\n",
    "        url = self._get_url(param_dict)\n",
    "        r = rq.get(url)\n",
    "        search_table = pd.DataFrame(r.json()['items'])\n",
    "        if includeText and not search_table.empty:\n",
    "            get_text = lambda x: self._get_article_data(x['fronturl'])\n",
    "            search_table[['overview', 'text']] = search_table.apply(get_text,\n",
    "                                                                    axis=1).tolist()\n",
    "\n",
    "        return search_table.sort_values('publish_date_t', ignore_index=True)\n",
    "\n",
    "\n",
    "    def _get_article_data(self, url: str):\n",
    "        \"\"\"\n",
    "        Возвращает описание и текст статьи по ссылке\n",
    "        \"\"\"\n",
    "        r = rq.get(url)\n",
    "        soup = bs(r.text, features=\"lxml\") # features=\"lxml\" чтобы не было warning\n",
    "        div_overview = soup.find('div', {'class': 'article__text__overview'})\n",
    "        if div_overview:\n",
    "            overview = div_overview.text.replace('<br />','\\n').strip()\n",
    "        else:\n",
    "            overview = None\n",
    "        p_text = soup.find_all('p')\n",
    "        if p_text:\n",
    "            text = ' '.join(map(lambda x:\n",
    "                                x.text.replace('<br />','\\n').strip(),\n",
    "                                p_text))\n",
    "        else:\n",
    "            text = None\n",
    "\n",
    "        return overview, text\n",
    "\n",
    "    def get_articles(self,\n",
    "                     param_dict,\n",
    "                     time_step = 7,\n",
    "                     save_every = 5,\n",
    "                     save_excel = True) -> pd.DataFrame:\n",
    "        print(\"inited\")\n",
    "        \"\"\"\n",
    "        Функция для скачивания статей интервалами через каждые time_step дней\n",
    "        Делает сохранение таблицы через каждые save_every * time_step дней\n",
    "\n",
    "        param_dict: dict\n",
    "        ### Параметры запроса\n",
    "        ###### project - раздел поиска, например, rbcnews\n",
    "        ###### category - категория поиска, например, TopRbcRu_economics\n",
    "        ###### dateFrom - с даты\n",
    "        ###### dateTo - по дату\n",
    "        ###### offset - смещение поисковой выдачи\n",
    "        ###### limit - лимит статей, максимум 100\n",
    "        ###### query - поисковой запрос (ключевое слово), например, РБК\n",
    "\n",
    "        \"\"\"\n",
    "        param_copy = param_dict.copy()\n",
    "        time_step = timedelta(days=time_step)\n",
    "        dateFrom = datetime.strptime(param_copy['dateFrom'], '%d.%m.%Y')\n",
    "        dateTo = datetime.strptime(param_copy['dateTo'], '%d.%m.%Y')\n",
    "        if dateFrom > dateTo:\n",
    "            raise ValueError('dateFrom should be less than dateTo')\n",
    "\n",
    "        out = pd.DataFrame()\n",
    "        save_counter = 0\n",
    "        print(\"parse rdy\")\n",
    "        while dateFrom <= dateTo:\n",
    "            param_copy['dateTo'] = (dateFrom + time_step).strftime(\"%d.%m.%Y\")\n",
    "            if dateFrom + time_step > dateTo:\n",
    "                param_copy['dateTo'] = dateTo.strftime(\"%d.%m.%Y\")\n",
    "            print('Parsing articles from ' + param_copy['dateFrom'] +  ' to ' + param_copy['dateTo'])\n",
    "            out = out.append(self._get_search_table(param_copy), ignore_index=True)\n",
    "            dateFrom += time_step + timedelta(days=1)\n",
    "            param_copy['dateFrom'] = dateFrom.strftime(\"%d.%m.%Y\")\n",
    "            save_counter += 1\n",
    "            if save_counter == save_every:\n",
    "                display.clear_output(wait=True)\n",
    "                out.to_excel(\"checkpoint_table{}.xlsx\".format(save_counter))\n",
    "                print('Checkpoint saved!')\n",
    "                save_counter = 0\n",
    "\n",
    "        if save_excel:\n",
    "            out.to_excel(\"rbc_{}_{}.xlsx\".format(\n",
    "                param_dict['dateFrom'],\n",
    "                param_dict['dateTo']))\n",
    "            with open(\"rbc_{}_{}.json\".format(param_dict['dateFrom'],param_dict['dateTo']), 'w', encoding='utf-8') as file:\n",
    "                out.to_json(file, orient='records', lines=True, force_ascii=False)\n",
    "\n",
    "        print('Finish')\n",
    "\n",
    "        return out\n",
    "print(1)"
   ],
   "metadata": {
    "collapsed": false
   }
  },
  {
   "cell_type": "code",
   "execution_count": 33,
   "outputs": [
    {
     "name": "stdout",
     "output_type": "stream",
     "text": [
      "РБК - param_dict: {'query': 'РБК', 'project': 'rbcnews', 'category': 'TopRbcRu_economics', 'dateFrom': '01.09.2022', 'dateTo': '07.10.2022', 'offset': '0', 'limit': '100', 'material': ''}\n"
     ]
    }
   ],
   "source": [
    "# Задаем параметры запросы и складываем в param_dict\n",
    "use_parser = \"РБК\"\n",
    "\n",
    "query = 'РБК'\n",
    "project = \"rbcnews\"\n",
    "category = \"TopRbcRu_economics\"\n",
    "material = \"\"\n",
    "dateFrom = '2022-09-01'\n",
    "dateTo = \"2022-10-07\"\n",
    "offset = 0\n",
    "limit = 100\n",
    "\n",
    "if use_parser == \"РБК\":\n",
    "    param_dict = {'query'   : query,\n",
    "                  'project' : project,\n",
    "                  'category': category,\n",
    "                  'dateFrom': datetime.\n",
    "                  strptime(dateFrom, '%Y-%m-%d').\n",
    "                  strftime('%d.%m.%Y'),\n",
    "                  'dateTo'  : datetime.\n",
    "                  strptime(dateTo, '%Y-%m-%d').\n",
    "                  strftime('%d.%m.%Y'),\n",
    "                  'offset'  : str(offset),\n",
    "                  'limit'   : str(limit),\n",
    "                  'material': material}\n",
    "\n",
    "print(use_parser, \"- param_dict:\", param_dict)"
   ],
   "metadata": {
    "collapsed": false
   }
  },
  {
   "cell_type": "code",
   "execution_count": 34,
   "outputs": [
    {
     "name": "stdout",
     "output_type": "stream",
     "text": [
      "Checkpoint saved!\n",
      "Parsing articles from 01.10.2022 to 02.10.2022\n"
     ]
    },
    {
     "name": "stderr",
     "output_type": "stream",
     "text": [
      "C:\\Users\\дом.DESKTOP-A3U9TO1\\AppData\\Local\\Temp\\ipykernel_10068\\2846183737.py:106: FutureWarning: The frame.append method is deprecated and will be removed from pandas in a future version. Use pandas.concat instead.\n",
      "  out = out.append(self._get_search_table(param_copy), ignore_index=True)\n"
     ]
    },
    {
     "name": "stdout",
     "output_type": "stream",
     "text": [
      "Parsing articles from 03.10.2022 to 04.10.2022\n"
     ]
    },
    {
     "name": "stderr",
     "output_type": "stream",
     "text": [
      "C:\\Users\\дом.DESKTOP-A3U9TO1\\AppData\\Local\\Temp\\ipykernel_10068\\2846183737.py:106: FutureWarning: The frame.append method is deprecated and will be removed from pandas in a future version. Use pandas.concat instead.\n",
      "  out = out.append(self._get_search_table(param_copy), ignore_index=True)\n"
     ]
    },
    {
     "name": "stdout",
     "output_type": "stream",
     "text": [
      "Parsing articles from 05.10.2022 to 06.10.2022\n"
     ]
    },
    {
     "name": "stderr",
     "output_type": "stream",
     "text": [
      "C:\\Users\\дом.DESKTOP-A3U9TO1\\AppData\\Local\\Temp\\ipykernel_10068\\2846183737.py:106: FutureWarning: The frame.append method is deprecated and will be removed from pandas in a future version. Use pandas.concat instead.\n",
      "  out = out.append(self._get_search_table(param_copy), ignore_index=True)\n"
     ]
    },
    {
     "name": "stdout",
     "output_type": "stream",
     "text": [
      "Parsing articles from 07.10.2022 to 07.10.2022\n",
      "Finish\n",
      "190\n"
     ]
    },
    {
     "name": "stderr",
     "output_type": "stream",
     "text": [
      "C:\\Users\\дом.DESKTOP-A3U9TO1\\AppData\\Local\\Temp\\ipykernel_10068\\2846183737.py:106: FutureWarning: The frame.append method is deprecated and will be removed from pandas in a future version. Use pandas.concat instead.\n",
      "  out = out.append(self._get_search_table(param_copy), ignore_index=True)\n"
     ]
    },
    {
     "data": {
      "text/plain": "                         id  \\\n0  634139269a79479a6431ead3   \n1  634135339a794798e76ecd97   \n2  63413f8e9a79479c4c7a4180   \n3  634140be9a79479c4c7a4188   \n4  63413dd09a79479c1e5e3e6f   \n\n                                                           fronturl  \\\n0   https://www.rbc.ru/business/08/10/2022/634139269a79479a6431ead3   \n1  https://www.rbc.ru/economics/08/10/2022/634135339a794798e76ecd97   \n2        https://ufa.rbc.ru/ufa/08/10/2022/63413f8e9a79479c4c7a4180   \n3  https://www.rbc.ru/economics/08/10/2022/634140be9a79479c4c7a4188   \n4   https://www.rbc.ru/politics/08/10/2022/63413dd09a79479c1e5e3e6f   \n\n   publish_date_t                     publish_date  \\\n0      1665219754  Sat, 08 Oct 2022 12:02:34 +0300   \n1      1665220263  Sat, 08 Oct 2022 12:11:03 +0300   \n2      1665220592  Sat, 08 Oct 2022 12:16:32 +0300   \n3      1665220947  Sat, 08 Oct 2022 12:22:27 +0300   \n4      1665220952  Sat, 08 Oct 2022 12:22:32 +0300   \n\n                                                                       title  \\\n0                 Туроператоры оценили возможное количество туристов в Крыму   \n1            Севастополь вслед за Крымом ввел ограничение на продажу бакалеи   \n2  «Уфаводоканал» проиграл еще одно дело против пивоваренной компании «Эфес»   \n3   Министр заявил, что запустить паромы в Крым в субботу не позволит погода   \n4   Губернатор сообщил о втором за день обстреле села в Белгородской области   \n\n                                                                                       photo  \\\n0  {'url': 'https://s0.rbk.ru/v6_top_pics/resized/250xH/media/img/5/18/756652196781185.jpg'}   \n1  {'url': 'https://s0.rbk.ru/v6_top_pics/resized/250xH/media/img/9/48/756652181483489.jpg'}   \n2  {'url': 'https://s0.rbk.ru/v6_top_pics/resized/250xH/media/img/9/03/756652205679039.jpg'}   \n3  {'url': 'https://s0.rbk.ru/v6_top_pics/resized/250xH/media/img/9/81/756652212312819.jpg'}   \n4  {'url': 'https://s0.rbk.ru/v6_top_pics/resized/250xH/media/img/4/01/756652205617014.jpg'}   \n\n  project   category opinion_authors             authors  \\\n0    None     Бизнес            None                None   \n1    None  Экономика            None  [Полина Мартынова]   \n2    None       None            None  [Наиль Байназаров]   \n3    None  Экономика            None  [Полина Мартынова]   \n4    None   Политика            None  [Полина Мартынова]   \n\n                                                                                                                                                                                                     anons  \\\n0   ...  в ближайшие дни должно заехать», — сказал он (цитата по ТАСС). [ <b>РБК</b> ] Взрыв и обрушение пролетов на Крымском мосту. Что известно к ...  отдыха», сообщила в своем телеграмм-канале гла...   \n1                                                    ... , подсолнечного масла — на 46, а мясных консервов — на 106 дней. [ <b>РБК</b> ] Взрыв и обрушение пролетов на Крымском мосту. Что известно к ...    \n2   ...  и он встал на сторону «АБ Инбев Эфес». Как сообщал <b>РБК</b> Уфа, «Уфаводоканал» пытается взыскать с пивоваренного завода «Эфес» в Уфе ...  сверх нормативов. Следите за деловыми новостями р...   \n3                        ... , чтобы организовать регулярное паромное сообщение сегодня», — сказал и.о. министра. [ <b>РБК</b> ] Страховщики оценили стоимость ущерба из-за подрыва на Крымском мосту ...    \n4                              ...  селу Бирюч Валуйского городского округа. Там пострадала 16-летняя девушка. [ <b>РБК</b> ] ВСУ обстреляли село в Белгородской области После начала спецоперации на ...    \n\n                                                                                                                                                                                                  overview  \\\n0  В общей сложности в Крыму сейчас находится до 50 тыс. туристов, считают в ассоциации туроператоров. Власти региона призвали гостиницы продлить им время проживания, а в Ростуризме посоветовали пере...   \n1  В Севастополе после взрыва на Крымском мосту и остановки сообщения ограничили отпуск бакалейных товаров до 3 кг или пачек в одни руки, чтобы избежать ажиотажа. Власти заверили, что в регионе пробл...   \n2                                                                        Это дело имеет принципиальное значение для исхода других споров между ресурсоснабжающей организацией и пивоваренным заводом в Уфе   \n3                                                                                            Однако позднее глава крымского минтранса Николай Лукашенко заявил, что это будет возможно, суда уже тестируют   \n4                                                                                       Вслед за селом Бирюч Валуйского округа обстреляно село Тишанка Волоконовского района. Пострадавших на этот раз нет   \n\n                                                                                                                                                                                                      text  \n0  В Крыму сейчас может находиться порядка 50 тыс. туристов. Об этом говорится в сообщении Ассоциации туроператоров России. «Туроператоры и органы власти ведут их подсчет. Более точные данные о колич...  \n1  В Севастополе ограничили отпуск бакалейной продукции до 3 кг или пачек в одни руки, чтобы избежать ажиотажа на фоне проблем с сообщением с материковой частью России в связи с повреждением Крымског...  \n2  Арбитражный суд Уральского округа оставил в силе решение 18-го арбитражного апелляционного суда, который отказал «Уфаводоканалу» в удовлетворении иска к АО «АБ Инбев Эфес». Ресурсоснабжающая компа...  \n3  Запустить паромы в Крым в субботу не получится из-за погодных условий. Об этом заявил и.о. министра транспорта региона Николай Лукашенко. «Погода сегодня не позволяет вообще ничего», — заявил он. ...  \n4  Под обстрел попало село Тишанка Волоконовского района, пострадавших нет, сообщил глава Белгородской области Вячеслав Гладков. «Осколками повреждены два легковых автомобиля работников зерновой комп...  ",
      "text/html": "<div>\n<style scoped>\n    .dataframe tbody tr th:only-of-type {\n        vertical-align: middle;\n    }\n\n    .dataframe tbody tr th {\n        vertical-align: top;\n    }\n\n    .dataframe thead th {\n        text-align: right;\n    }\n</style>\n<table border=\"1\" class=\"dataframe\">\n  <thead>\n    <tr style=\"text-align: right;\">\n      <th></th>\n      <th>id</th>\n      <th>fronturl</th>\n      <th>publish_date_t</th>\n      <th>publish_date</th>\n      <th>title</th>\n      <th>photo</th>\n      <th>project</th>\n      <th>category</th>\n      <th>opinion_authors</th>\n      <th>authors</th>\n      <th>anons</th>\n      <th>overview</th>\n      <th>text</th>\n    </tr>\n  </thead>\n  <tbody>\n    <tr>\n      <th>0</th>\n      <td>634139269a79479a6431ead3</td>\n      <td>https://www.rbc.ru/business/08/10/2022/634139269a79479a6431ead3</td>\n      <td>1665219754</td>\n      <td>Sat, 08 Oct 2022 12:02:34 +0300</td>\n      <td>Туроператоры оценили возможное количество туристов в Крыму</td>\n      <td>{'url': 'https://s0.rbk.ru/v6_top_pics/resized/250xH/media/img/5/18/756652196781185.jpg'}</td>\n      <td>None</td>\n      <td>Бизнес</td>\n      <td>None</td>\n      <td>None</td>\n      <td>...  в ближайшие дни должно заехать», — сказал он (цитата по ТАСС). [ &lt;b&gt;РБК&lt;/b&gt; ] Взрыв и обрушение пролетов на Крымском мосту. Что известно к ...  отдыха», сообщила в своем телеграмм-канале гла...</td>\n      <td>В общей сложности в Крыму сейчас находится до 50 тыс. туристов, считают в ассоциации туроператоров. Власти региона призвали гостиницы продлить им время проживания, а в Ростуризме посоветовали пере...</td>\n      <td>В Крыму сейчас может находиться порядка 50 тыс. туристов. Об этом говорится в сообщении Ассоциации туроператоров России. «Туроператоры и органы власти ведут их подсчет. Более точные данные о колич...</td>\n    </tr>\n    <tr>\n      <th>1</th>\n      <td>634135339a794798e76ecd97</td>\n      <td>https://www.rbc.ru/economics/08/10/2022/634135339a794798e76ecd97</td>\n      <td>1665220263</td>\n      <td>Sat, 08 Oct 2022 12:11:03 +0300</td>\n      <td>Севастополь вслед за Крымом ввел ограничение на продажу бакалеи</td>\n      <td>{'url': 'https://s0.rbk.ru/v6_top_pics/resized/250xH/media/img/9/48/756652181483489.jpg'}</td>\n      <td>None</td>\n      <td>Экономика</td>\n      <td>None</td>\n      <td>[Полина Мартынова]</td>\n      <td>... , подсолнечного масла — на 46, а мясных консервов — на 106 дней. [ &lt;b&gt;РБК&lt;/b&gt; ] Взрыв и обрушение пролетов на Крымском мосту. Что известно к ...</td>\n      <td>В Севастополе после взрыва на Крымском мосту и остановки сообщения ограничили отпуск бакалейных товаров до 3 кг или пачек в одни руки, чтобы избежать ажиотажа. Власти заверили, что в регионе пробл...</td>\n      <td>В Севастополе ограничили отпуск бакалейной продукции до 3 кг или пачек в одни руки, чтобы избежать ажиотажа на фоне проблем с сообщением с материковой частью России в связи с повреждением Крымског...</td>\n    </tr>\n    <tr>\n      <th>2</th>\n      <td>63413f8e9a79479c4c7a4180</td>\n      <td>https://ufa.rbc.ru/ufa/08/10/2022/63413f8e9a79479c4c7a4180</td>\n      <td>1665220592</td>\n      <td>Sat, 08 Oct 2022 12:16:32 +0300</td>\n      <td>«Уфаводоканал» проиграл еще одно дело против пивоваренной компании «Эфес»</td>\n      <td>{'url': 'https://s0.rbk.ru/v6_top_pics/resized/250xH/media/img/9/03/756652205679039.jpg'}</td>\n      <td>None</td>\n      <td>None</td>\n      <td>None</td>\n      <td>[Наиль Байназаров]</td>\n      <td>...  и он встал на сторону «АБ Инбев Эфес». Как сообщал &lt;b&gt;РБК&lt;/b&gt; Уфа, «Уфаводоканал» пытается взыскать с пивоваренного завода «Эфес» в Уфе ...  сверх нормативов. Следите за деловыми новостями р...</td>\n      <td>Это дело имеет принципиальное значение для исхода других споров между ресурсоснабжающей организацией и пивоваренным заводом в Уфе</td>\n      <td>Арбитражный суд Уральского округа оставил в силе решение 18-го арбитражного апелляционного суда, который отказал «Уфаводоканалу» в удовлетворении иска к АО «АБ Инбев Эфес». Ресурсоснабжающая компа...</td>\n    </tr>\n    <tr>\n      <th>3</th>\n      <td>634140be9a79479c4c7a4188</td>\n      <td>https://www.rbc.ru/economics/08/10/2022/634140be9a79479c4c7a4188</td>\n      <td>1665220947</td>\n      <td>Sat, 08 Oct 2022 12:22:27 +0300</td>\n      <td>Министр заявил, что запустить паромы в Крым в субботу не позволит погода</td>\n      <td>{'url': 'https://s0.rbk.ru/v6_top_pics/resized/250xH/media/img/9/81/756652212312819.jpg'}</td>\n      <td>None</td>\n      <td>Экономика</td>\n      <td>None</td>\n      <td>[Полина Мартынова]</td>\n      <td>... , чтобы организовать регулярное паромное сообщение сегодня», — сказал и.о. министра. [ &lt;b&gt;РБК&lt;/b&gt; ] Страховщики оценили стоимость ущерба из-за подрыва на Крымском мосту ...</td>\n      <td>Однако позднее глава крымского минтранса Николай Лукашенко заявил, что это будет возможно, суда уже тестируют</td>\n      <td>Запустить паромы в Крым в субботу не получится из-за погодных условий. Об этом заявил и.о. министра транспорта региона Николай Лукашенко. «Погода сегодня не позволяет вообще ничего», — заявил он. ...</td>\n    </tr>\n    <tr>\n      <th>4</th>\n      <td>63413dd09a79479c1e5e3e6f</td>\n      <td>https://www.rbc.ru/politics/08/10/2022/63413dd09a79479c1e5e3e6f</td>\n      <td>1665220952</td>\n      <td>Sat, 08 Oct 2022 12:22:32 +0300</td>\n      <td>Губернатор сообщил о втором за день обстреле села в Белгородской области</td>\n      <td>{'url': 'https://s0.rbk.ru/v6_top_pics/resized/250xH/media/img/4/01/756652205617014.jpg'}</td>\n      <td>None</td>\n      <td>Политика</td>\n      <td>None</td>\n      <td>[Полина Мартынова]</td>\n      <td>...  селу Бирюч Валуйского городского округа. Там пострадала 16-летняя девушка. [ &lt;b&gt;РБК&lt;/b&gt; ] ВСУ обстреляли село в Белгородской области После начала спецоперации на ...</td>\n      <td>Вслед за селом Бирюч Валуйского округа обстреляно село Тишанка Волоконовского района. Пострадавших на этот раз нет</td>\n      <td>Под обстрел попало село Тишанка Волоконовского района, пострадавших нет, сообщил глава Белгородской области Вячеслав Гладков. «Осколками повреждены два легковых автомобиля работников зерновой комп...</td>\n    </tr>\n  </tbody>\n</table>\n</div>"
     },
     "execution_count": 34,
     "metadata": {},
     "output_type": "execute_result"
    }
   ],
   "source": [
    "# Пример того, как выглядит json таблица запроса по параметрам.\n",
    "# Действует ограничение в 100 статей на 1 запрос (параметром limit)\n",
    "assert use_parser == \"РБК\"\n",
    "parser = rbc_parser()\n",
    "tbl = parser._get_search_table(param_dict,\n",
    "                               includeText = True) # Парсить текст статей\n",
    "print(len(tbl))\n",
    "tbl.head()\n",
    "# Пример работы программы итеративного сбора большого количества текстов статей\n",
    "# Работает, конечно, очень долго :(\n",
    "table = parser.get_articles(param_dict=param_dict,\n",
    "                            time_step = 1, # Шаг - 7 дней, можно больше,\n",
    "                            # но есть риск отсечения статей в неделях, гдестатей больше 100\n",
    "                            save_every = 5, # Сохранять чекпойнт каждые 5 шагов\n",
    "                            save_excel = True) # Сохранить итоговый файл\n",
    "print(len(table))\n",
    "table.head()"
   ],
   "metadata": {
    "collapsed": false
   }
  },
  {
   "cell_type": "code",
   "execution_count": null,
   "outputs": [],
   "source": [],
   "metadata": {
    "collapsed": false
   }
  },
  {
   "cell_type": "code",
   "execution_count": null,
   "outputs": [],
   "source": [],
   "metadata": {
    "collapsed": false,
    "pycharm": {
     "is_executing": true
    }
   }
  },
  {
   "cell_type": "code",
   "execution_count": null,
   "outputs": [],
   "source": [],
   "metadata": {
    "collapsed": false
   }
  }
 ],
 "metadata": {
  "kernelspec": {
   "display_name": "Python 3",
   "language": "python",
   "name": "python3"
  },
  "language_info": {
   "codemirror_mode": {
    "name": "ipython",
    "version": 2
   },
   "file_extension": ".py",
   "mimetype": "text/x-python",
   "name": "python",
   "nbconvert_exporter": "python",
   "pygments_lexer": "ipython2",
   "version": "2.7.6"
  }
 },
 "nbformat": 4,
 "nbformat_minor": 0
}
